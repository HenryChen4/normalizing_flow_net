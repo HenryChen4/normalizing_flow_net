{
 "cells": [
  {
   "cell_type": "code",
   "execution_count": 88,
   "metadata": {},
   "outputs": [],
   "source": [
    "import sys\n",
    "\n",
    "import numpy as np\n",
    "import matplotlib.pyplot as plt\n",
    "import torch.nn as nn\n",
    "import torch\n",
    "\n",
    "from torch.utils.data import DataLoader\n",
    "from tqdm import tqdm, trange\n",
    "\n",
    "from ribs.archives import GridArchive\n",
    "from ribs.visualize import grid_archive_heatmap\n",
    "from ribs.emitters import EvolutionStrategyEmitter\n",
    "from ribs.schedulers import Scheduler"
   ]
  },
  {
   "cell_type": "markdown",
   "metadata": {},
   "source": [
    "Creating the archive and running cma_mae"
   ]
  },
  {
   "cell_type": "code",
   "execution_count": 3,
   "metadata": {},
   "outputs": [
    {
     "name": "stdout",
     "output_type": "stream",
     "text": [
      "Iteration   500 | Archive Coverage: 54.010%  Normalized QD Score: 44.034\n",
      "Iteration  1000 | Archive Coverage: 63.320%  Normalized QD Score: 50.173\n",
      "Iteration  1500 | Archive Coverage: 68.950%  Normalized QD Score: 53.369\n",
      "Iteration  2000 | Archive Coverage: 73.990%  Normalized QD Score: 56.263\n",
      "Iteration  2500 | Archive Coverage: 76.530%  Normalized QD Score: 58.118\n",
      "Iteration  3000 | Archive Coverage: 77.230%  Normalized QD Score: 59.132\n",
      "Iteration  3500 | Archive Coverage: 78.160%  Normalized QD Score: 60.104\n",
      "Iteration  4000 | Archive Coverage: 78.530%  Normalized QD Score: 60.622\n",
      "Iteration  4500 | Archive Coverage: 78.680%  Normalized QD Score: 60.995\n",
      "Iteration  5000 | Archive Coverage: 79.270%  Normalized QD Score: 61.438\n",
      "Iteration  5500 | Archive Coverage: 79.530%  Normalized QD Score: 61.782\n",
      "Iteration  6000 | Archive Coverage: 79.830%  Normalized QD Score: 62.066\n",
      "Iteration  6500 | Archive Coverage: 80.000%  Normalized QD Score: 62.294\n",
      "Iteration  7000 | Archive Coverage: 80.400%  Normalized QD Score: 62.608\n",
      "Iteration  7500 | Archive Coverage: 80.620%  Normalized QD Score: 62.800\n",
      "Iteration  8000 | Archive Coverage: 80.710%  Normalized QD Score: 62.900\n",
      "Iteration  8500 | Archive Coverage: 80.710%  Normalized QD Score: 62.954\n",
      "Iteration  9000 | Archive Coverage: 80.830%  Normalized QD Score: 63.064\n",
      "Iteration  9500 | Archive Coverage: 80.870%  Normalized QD Score: 63.129\n",
      "Iteration 10000 | Archive Coverage: 81.210%  Normalized QD Score: 63.469\n",
      "Iterations: 100%|██████████| 10000/10000 [02:45<00:00, 60.30it/s]\n"
     ]
    }
   ],
   "source": [
    "# objective function for cma-mae\n",
    "def sphere(solution_batch):\n",
    "    \"\"\"Sphere function evaluation and measures for a batch of solutions.\n",
    "\n",
    "    Args:\n",
    "        solution_batch (np.ndarray): (batch_size, dim) batch of solutions.\n",
    "    Returns:\n",
    "        objective_batch (np.ndarray): (batch_size,) batch of objectives.\n",
    "        measures_batch (np.ndarray): (batch_size, 2) batch of measures.\n",
    "    \"\"\"\n",
    "    dim = solution_batch.shape[1]\n",
    "\n",
    "    # Shift the Sphere function so that the optimal value is at x_i = 2.048.\n",
    "    sphere_shift = 5.12 * 0.4\n",
    "\n",
    "    # Normalize the objective to the range [0, 100] where 100 is optimal.\n",
    "    best_obj = 0.0\n",
    "    worst_obj = (-5.12 - sphere_shift)**2 * dim\n",
    "    raw_obj = np.sum(np.square(solution_batch - sphere_shift), axis=1)\n",
    "    objective_batch = (raw_obj - worst_obj) / (best_obj - worst_obj) * 100\n",
    "\n",
    "    # Calculate measures.\n",
    "    clipped = solution_batch.copy()\n",
    "    clip_mask = (clipped < -5.12) | (clipped > 5.12)\n",
    "    clipped[clip_mask] = 5.12 / clipped[clip_mask]\n",
    "    measures_batch = np.concatenate(\n",
    "        (\n",
    "            np.sum(clipped[:, :dim // 2], axis=1, keepdims=True),\n",
    "            np.sum(clipped[:, dim // 2:], axis=1, keepdims=True),\n",
    "        ),\n",
    "        axis=1,\n",
    "    )\n",
    "\n",
    "    return objective_batch, measures_batch\n",
    "\n",
    "# max bound of the archive\n",
    "max_bound = 100 / 2 * 5.12\n",
    "\n",
    "# you have 2 archives because with CMA-MAE, you\n",
    "# insert solutions into the archive if their obj\n",
    "# is greater than their cell's threshold. This means\n",
    "# underperforming solutions that are higher than t_e\n",
    "# will be inserted, overruling the original solution.\n",
    "# To prevent this, 2 archives are made with one storing\n",
    "# the best solutions encountered in each cell and the other\n",
    "# just storing solutions that overcome the threshold.\n",
    "archive = GridArchive(solution_dim=100,\n",
    "                      dims=(100, 100),\n",
    "                      ranges=[(-max_bound, max_bound), (-max_bound, max_bound)],\n",
    "                      learning_rate=0.01,\n",
    "                      threshold_min=0.0)\n",
    "\n",
    "result_archive = GridArchive(solution_dim=100,\n",
    "                             dims=(100, 100),\n",
    "                             ranges=[(-max_bound, max_bound), (-max_bound, max_bound)])\n",
    "\n",
    "# emitters use improvement ranking and not 2imp\n",
    "# to only consider difference between soln obj and\n",
    "# threshold value. \n",
    "emitters = [\n",
    "    EvolutionStrategyEmitter(\n",
    "        archive,\n",
    "        x0=np.zeros(100),\n",
    "        sigma0=0.5,\n",
    "        ranker=\"imp\",\n",
    "        selection_rule=\"mu\",\n",
    "        restart_rule=\"basic\",\n",
    "        batch_size=36,\n",
    "    ) for _ in range(15)\n",
    "]\n",
    "\n",
    "scheduler = Scheduler(archive, emitters, result_archive=result_archive)\n",
    "\n",
    "total_itrs = 10_000\n",
    "\n",
    "# QD Loop\n",
    "for itr in trange(1, total_itrs + 1, file=sys.stdout, desc='Iterations'):\n",
    "    solution_batch = scheduler.ask()\n",
    "    objective_batch, measure_batch = sphere(solution_batch)\n",
    "    scheduler.tell(objective_batch, measure_batch)\n",
    "\n",
    "    # Output progress every 500 iterations or on the final iteration.\n",
    "    if itr % 500 == 0 or itr == total_itrs:\n",
    "        tqdm.write(f\"Iteration {itr:5d} | \"\n",
    "                   f\"Archive Coverage: {result_archive.stats.coverage * 100:6.3f}%  \"\n",
    "                   f\"Normalized QD Score: {result_archive.stats.norm_qd_score:6.3f}\")\n"
   ]
  },
  {
   "cell_type": "markdown",
   "metadata": {},
   "source": [
    "Loading data from archive to be used to train mlp for approximating threshold."
   ]
  },
  {
   "cell_type": "code",
   "execution_count": 83,
   "metadata": {},
   "outputs": [],
   "source": [
    "\n",
    "# things that are new down here\n",
    "# Idea is you want to take the solutions from the archive\n",
    "# and use (a) their measures as training inputs and (b) their \n",
    "# thresholds as training targets, to train an MLP that can\n",
    "# approximate the thresholds given solution measures.\n",
    "# Inputs: measures, outputs: threshold\n",
    "\n",
    "# get training data\n",
    "class Train_Dataset(torch.utils.data.Dataset):\n",
    "    def __init__(self, x, y):\n",
    "        self.x = x\n",
    "        self.y = y\n",
    "    \n",
    "    def __len__(self):\n",
    "        return len(self.x)\n",
    "    \n",
    "    def __getitem__(self, index):\n",
    "        return self.x[index], self.y[index]\n",
    "\n",
    "# only use the threshold archive    \n",
    "def get_archive_data(archive):\n",
    "    data = []\n",
    "    for elite in archive:\n",
    "        measures = elite[\"measures\"]\n",
    "        threshold = elite[\"threshold\"]\n",
    "        train_tuple = (measures, threshold)\n",
    "        data.append(train_tuple)\n",
    "\n",
    "    # loop over all measures to fill data with measures with no threshold\n",
    "    centers = [(b[:-1] + b[1:]) / 2.0 for b in archive.boundaries]\n",
    "    feature_coords = np.meshgrid(*centers)\n",
    "    feature_grid = np.stack([x.ravel() for x in feature_coords], axis=1)\n",
    "\n",
    "    i = 0\n",
    "    for measures in feature_grid:\n",
    "        occupied, elite = archive.retrieve_single(measures)\n",
    "        if not occupied:\n",
    "            train_tuple = (measures, 0.0) # 0.0 is min threshold value\n",
    "            data.append(train_tuple)\n",
    "            i += 1\n",
    "\n",
    "    return data\n",
    "\n",
    "def create_train_loader(data, batch_size, shuffle=True):\n",
    "    x = [item[0] for item in data]\n",
    "\n",
    "    # normalizing y\n",
    "    y_mean = 0.0\n",
    "    for item in data:\n",
    "        y_mean += item[1]\n",
    "    y_mean /= len(data)\n",
    "\n",
    "    y_std = 0.0\n",
    "    for item in data:\n",
    "        y_std += (item[1] - y_mean)**2\n",
    "    y_std = np.sqrt(y_std/len(data))\n",
    "\n",
    "    y = [(item[1] - y_mean)/y_std for item in data]\n",
    "\n",
    "    dataset = Train_Dataset(x, y)\n",
    "    dataloader = DataLoader(dataset, batch_size, shuffle=shuffle)\n",
    "\n",
    "    return dataloader, y_mean, y_std\n",
    "\n",
    "batch_size = 16\n",
    "\n",
    "threshold_archive_data = get_archive_data(archive)\n",
    "\n",
    "train_loader, y_mean, y_std = create_train_loader(data=threshold_archive_data,\n",
    "                                                  batch_size=batch_size,\n",
    "                                                  shuffle=True)"
   ]
  },
  {
   "cell_type": "markdown",
   "metadata": {},
   "source": [
    "Creating the mlp. Takes in measures (dim=2) as input and outputs threshold (dim=1)"
   ]
  },
  {
   "cell_type": "code",
   "execution_count": 90,
   "metadata": {},
   "outputs": [
    {
     "data": {
      "text/plain": [
       "Sequential(\n",
       "  (0): Linear(in_features=2, out_features=128, bias=True)\n",
       "  (1): LeakyReLU(negative_slope=0.01)\n",
       "  (2): Linear(in_features=128, out_features=128, bias=True)\n",
       "  (3): LeakyReLU(negative_slope=0.01)\n",
       "  (4): Linear(in_features=128, out_features=128, bias=True)\n",
       "  (5): LeakyReLU(negative_slope=0.01)\n",
       "  (6): Linear(in_features=128, out_features=1, bias=True)\n",
       ")"
      ]
     },
     "execution_count": 90,
     "metadata": {},
     "output_type": "execute_result"
    }
   ],
   "source": [
    "discount_model = nn.Sequential(\n",
    "    nn.Linear(2, 128),\n",
    "    nn.LeakyReLU(), \n",
    "    nn.Linear(128, 128),\n",
    "    nn.LeakyReLU(),\n",
    "    nn.Linear(128, 128),\n",
    "    nn.LeakyReLU(),\n",
    "    nn.Linear(128, 128),\n",
    "    nn.LeakyReLU(),\n",
    "    nn.Linear(128, 128),\n",
    "    nn.LeakyReLU(),\n",
    "    nn.Linear(128, 1)\n",
    ").double()\n",
    "\n",
    "def initialize_weights(m):\n",
    "    if isinstance(m, nn.Linear):\n",
    "        nn.init.xavier_uniform_(m.weight)\n",
    "        if m.bias is not None:\n",
    "            nn.init.constant_(m.bias, 0)\n",
    "\n",
    "\n",
    "discount_model.apply(initialize_weights)"
   ]
  },
  {
   "cell_type": "markdown",
   "metadata": {},
   "source": [
    "Train the model on the data."
   ]
  },
  {
   "cell_type": "code",
   "execution_count": 91,
   "metadata": {},
   "outputs": [
    {
     "name": "stderr",
     "output_type": "stream",
     "text": [
      "  0%|          | 0/100 [00:00<?, ?it/s]/Users/benryben/anaconda3/envs/archive-models/lib/python3.10/site-packages/torch/nn/modules/loss.py:535: UserWarning: Using a target size (torch.Size([16])) that is different to the input size (torch.Size([16, 1])). This will likely lead to incorrect results due to broadcasting. Please ensure they have the same size.\n",
      "  return F.mse_loss(input, target, reduction=self.reduction)\n",
      "100%|██████████| 625/625 [00:01<00:00, 373.09it/s]\n",
      "  1%|          | 1/100 [00:01<02:46,  1.68s/it]"
     ]
    },
    {
     "name": "stdout",
     "output_type": "stream",
     "text": [
      "epoch: 0, loss: 2.984747078397225\n"
     ]
    },
    {
     "name": "stderr",
     "output_type": "stream",
     "text": [
      "100%|██████████| 625/625 [00:01<00:00, 408.97it/s]\n",
      "  2%|▏         | 2/100 [00:03<02:36,  1.59s/it]"
     ]
    },
    {
     "name": "stdout",
     "output_type": "stream",
     "text": [
      "epoch: 1, loss: 1.0314829644397043\n"
     ]
    },
    {
     "name": "stderr",
     "output_type": "stream",
     "text": [
      "100%|██████████| 625/625 [00:01<00:00, 464.00it/s]\n",
      "  3%|▎         | 3/100 [00:04<02:23,  1.48s/it]"
     ]
    },
    {
     "name": "stdout",
     "output_type": "stream",
     "text": [
      "epoch: 2, loss: 1.047461717577974\n"
     ]
    },
    {
     "name": "stderr",
     "output_type": "stream",
     "text": [
      "100%|██████████| 625/625 [00:01<00:00, 372.21it/s]\n",
      "  4%|▍         | 4/100 [00:06<02:30,  1.56s/it]"
     ]
    },
    {
     "name": "stdout",
     "output_type": "stream",
     "text": [
      "epoch: 3, loss: 1.0459570692256697\n"
     ]
    },
    {
     "name": "stderr",
     "output_type": "stream",
     "text": [
      "100%|██████████| 625/625 [00:02<00:00, 255.12it/s]\n",
      "  5%|▌         | 5/100 [00:08<02:59,  1.88s/it]"
     ]
    },
    {
     "name": "stdout",
     "output_type": "stream",
     "text": [
      "epoch: 4, loss: 1.039740404102111\n"
     ]
    },
    {
     "name": "stderr",
     "output_type": "stream",
     "text": [
      "100%|██████████| 625/625 [00:01<00:00, 505.86it/s]\n",
      "  6%|▌         | 6/100 [00:09<02:36,  1.67s/it]"
     ]
    },
    {
     "name": "stdout",
     "output_type": "stream",
     "text": [
      "epoch: 5, loss: 1.0387396653878902\n"
     ]
    },
    {
     "name": "stderr",
     "output_type": "stream",
     "text": [
      "100%|██████████| 625/625 [00:01<00:00, 502.91it/s]\n",
      "  7%|▋         | 7/100 [00:11<02:22,  1.53s/it]"
     ]
    },
    {
     "name": "stdout",
     "output_type": "stream",
     "text": [
      "epoch: 6, loss: 1.0615704600908207\n"
     ]
    },
    {
     "name": "stderr",
     "output_type": "stream",
     "text": [
      "100%|██████████| 625/625 [00:01<00:00, 431.25it/s]\n",
      "  8%|▊         | 8/100 [00:12<02:18,  1.51s/it]"
     ]
    },
    {
     "name": "stdout",
     "output_type": "stream",
     "text": [
      "epoch: 7, loss: 1.0528372789373026\n"
     ]
    },
    {
     "name": "stderr",
     "output_type": "stream",
     "text": [
      "100%|██████████| 625/625 [00:01<00:00, 461.22it/s]\n",
      "  9%|▉         | 9/100 [00:14<02:12,  1.46s/it]"
     ]
    },
    {
     "name": "stdout",
     "output_type": "stream",
     "text": [
      "epoch: 8, loss: 1.0613902125682655\n"
     ]
    },
    {
     "name": "stderr",
     "output_type": "stream",
     "text": [
      "100%|██████████| 625/625 [00:01<00:00, 482.26it/s]\n",
      " 10%|█         | 10/100 [00:15<02:06,  1.41s/it]"
     ]
    },
    {
     "name": "stdout",
     "output_type": "stream",
     "text": [
      "epoch: 9, loss: 1.0737677771717553\n"
     ]
    },
    {
     "name": "stderr",
     "output_type": "stream",
     "text": [
      "100%|██████████| 625/625 [00:01<00:00, 529.09it/s]\n",
      " 11%|█         | 11/100 [00:16<01:59,  1.34s/it]"
     ]
    },
    {
     "name": "stdout",
     "output_type": "stream",
     "text": [
      "epoch: 10, loss: 1.0501408602675981\n"
     ]
    },
    {
     "name": "stderr",
     "output_type": "stream",
     "text": [
      "100%|██████████| 625/625 [00:01<00:00, 519.00it/s]\n",
      " 12%|█▏        | 12/100 [00:17<01:54,  1.30s/it]"
     ]
    },
    {
     "name": "stdout",
     "output_type": "stream",
     "text": [
      "epoch: 11, loss: 1.0604359997160755\n"
     ]
    },
    {
     "name": "stderr",
     "output_type": "stream",
     "text": [
      "100%|██████████| 625/625 [00:01<00:00, 473.08it/s]\n",
      " 13%|█▎        | 13/100 [00:19<01:53,  1.31s/it]"
     ]
    },
    {
     "name": "stdout",
     "output_type": "stream",
     "text": [
      "epoch: 12, loss: 1.0623816251140545\n"
     ]
    },
    {
     "name": "stderr",
     "output_type": "stream",
     "text": [
      "100%|██████████| 625/625 [00:01<00:00, 543.52it/s]\n",
      " 14%|█▍        | 14/100 [00:20<01:48,  1.26s/it]"
     ]
    },
    {
     "name": "stdout",
     "output_type": "stream",
     "text": [
      "epoch: 13, loss: 1.045017458668797\n"
     ]
    },
    {
     "name": "stderr",
     "output_type": "stream",
     "text": [
      "100%|██████████| 625/625 [00:01<00:00, 569.60it/s]\n",
      " 15%|█▌        | 15/100 [00:21<01:43,  1.21s/it]"
     ]
    },
    {
     "name": "stdout",
     "output_type": "stream",
     "text": [
      "epoch: 14, loss: 1.0508849439235322\n"
     ]
    },
    {
     "name": "stderr",
     "output_type": "stream",
     "text": [
      "100%|██████████| 625/625 [00:01<00:00, 566.27it/s]\n",
      " 16%|█▌        | 16/100 [00:22<01:39,  1.18s/it]"
     ]
    },
    {
     "name": "stdout",
     "output_type": "stream",
     "text": [
      "epoch: 15, loss: 1.061835465977073\n"
     ]
    },
    {
     "name": "stderr",
     "output_type": "stream",
     "text": [
      "100%|██████████| 625/625 [00:01<00:00, 448.51it/s]\n",
      " 17%|█▋        | 17/100 [00:23<01:43,  1.25s/it]"
     ]
    },
    {
     "name": "stdout",
     "output_type": "stream",
     "text": [
      "epoch: 16, loss: 1.0472009078595577\n"
     ]
    },
    {
     "name": "stderr",
     "output_type": "stream",
     "text": [
      "100%|██████████| 625/625 [00:01<00:00, 582.06it/s]\n",
      " 18%|█▊        | 18/100 [00:24<01:38,  1.20s/it]"
     ]
    },
    {
     "name": "stdout",
     "output_type": "stream",
     "text": [
      "epoch: 17, loss: 1.0598323783838828\n"
     ]
    },
    {
     "name": "stderr",
     "output_type": "stream",
     "text": [
      "100%|██████████| 625/625 [00:01<00:00, 592.02it/s]\n",
      " 19%|█▉        | 19/100 [00:25<01:33,  1.16s/it]"
     ]
    },
    {
     "name": "stdout",
     "output_type": "stream",
     "text": [
      "epoch: 18, loss: 1.0450939557053365\n"
     ]
    },
    {
     "name": "stderr",
     "output_type": "stream",
     "text": [
      "100%|██████████| 625/625 [00:01<00:00, 583.45it/s]\n",
      " 20%|██        | 20/100 [00:27<01:30,  1.13s/it]"
     ]
    },
    {
     "name": "stdout",
     "output_type": "stream",
     "text": [
      "epoch: 19, loss: 1.0409461322863136\n"
     ]
    },
    {
     "name": "stderr",
     "output_type": "stream",
     "text": [
      "100%|██████████| 625/625 [00:01<00:00, 580.07it/s]\n",
      " 21%|██        | 21/100 [00:28<01:28,  1.12s/it]"
     ]
    },
    {
     "name": "stdout",
     "output_type": "stream",
     "text": [
      "epoch: 20, loss: 1.0549933263388431\n"
     ]
    },
    {
     "name": "stderr",
     "output_type": "stream",
     "text": [
      "100%|██████████| 625/625 [00:01<00:00, 588.51it/s]\n",
      " 22%|██▏       | 22/100 [00:29<01:25,  1.10s/it]"
     ]
    },
    {
     "name": "stdout",
     "output_type": "stream",
     "text": [
      "epoch: 21, loss: 1.0436763074054236\n"
     ]
    },
    {
     "name": "stderr",
     "output_type": "stream",
     "text": [
      "100%|██████████| 625/625 [00:01<00:00, 591.42it/s]\n",
      " 23%|██▎       | 23/100 [00:30<01:23,  1.09s/it]"
     ]
    },
    {
     "name": "stdout",
     "output_type": "stream",
     "text": [
      "epoch: 22, loss: 1.0424710431457298\n"
     ]
    },
    {
     "name": "stderr",
     "output_type": "stream",
     "text": [
      "100%|██████████| 625/625 [00:01<00:00, 578.45it/s]\n",
      " 24%|██▍       | 24/100 [00:31<01:22,  1.09s/it]"
     ]
    },
    {
     "name": "stdout",
     "output_type": "stream",
     "text": [
      "epoch: 23, loss: 1.038788652449681\n"
     ]
    },
    {
     "name": "stderr",
     "output_type": "stream",
     "text": [
      "100%|██████████| 625/625 [00:01<00:00, 414.42it/s]\n",
      " 25%|██▌       | 25/100 [00:32<01:31,  1.22s/it]"
     ]
    },
    {
     "name": "stdout",
     "output_type": "stream",
     "text": [
      "epoch: 24, loss: 1.0527742310772648\n"
     ]
    },
    {
     "name": "stderr",
     "output_type": "stream",
     "text": [
      "100%|██████████| 625/625 [00:01<00:00, 367.02it/s]\n",
      " 26%|██▌       | 26/100 [00:34<01:41,  1.37s/it]"
     ]
    },
    {
     "name": "stdout",
     "output_type": "stream",
     "text": [
      "epoch: 25, loss: 1.0377776727969188\n"
     ]
    },
    {
     "name": "stderr",
     "output_type": "stream",
     "text": [
      "100%|██████████| 625/625 [00:01<00:00, 428.80it/s]\n",
      " 27%|██▋       | 27/100 [00:35<01:41,  1.39s/it]"
     ]
    },
    {
     "name": "stdout",
     "output_type": "stream",
     "text": [
      "epoch: 26, loss: 1.0543138509707202\n"
     ]
    },
    {
     "name": "stderr",
     "output_type": "stream",
     "text": [
      "100%|██████████| 625/625 [00:01<00:00, 404.27it/s]\n",
      " 28%|██▊       | 28/100 [00:37<01:43,  1.44s/it]"
     ]
    },
    {
     "name": "stdout",
     "output_type": "stream",
     "text": [
      "epoch: 27, loss: 1.0428970912475735\n"
     ]
    },
    {
     "name": "stderr",
     "output_type": "stream",
     "text": [
      "100%|██████████| 625/625 [00:01<00:00, 466.85it/s]\n",
      " 29%|██▉       | 29/100 [00:38<01:40,  1.41s/it]"
     ]
    },
    {
     "name": "stdout",
     "output_type": "stream",
     "text": [
      "epoch: 28, loss: 1.0398548148088727\n"
     ]
    },
    {
     "name": "stderr",
     "output_type": "stream",
     "text": [
      "100%|██████████| 625/625 [00:01<00:00, 474.59it/s]\n",
      " 30%|███       | 30/100 [00:40<01:36,  1.39s/it]"
     ]
    },
    {
     "name": "stdout",
     "output_type": "stream",
     "text": [
      "epoch: 29, loss: 1.0495192996274385\n"
     ]
    },
    {
     "name": "stderr",
     "output_type": "stream",
     "text": [
      "100%|██████████| 625/625 [00:01<00:00, 474.31it/s]\n",
      " 31%|███       | 31/100 [00:41<01:34,  1.37s/it]"
     ]
    },
    {
     "name": "stdout",
     "output_type": "stream",
     "text": [
      "epoch: 30, loss: 1.036129153712494\n"
     ]
    },
    {
     "name": "stderr",
     "output_type": "stream",
     "text": [
      "100%|██████████| 625/625 [00:01<00:00, 356.00it/s]\n",
      " 32%|███▏      | 32/100 [00:43<01:40,  1.48s/it]"
     ]
    },
    {
     "name": "stdout",
     "output_type": "stream",
     "text": [
      "epoch: 31, loss: 1.0396519865905751\n"
     ]
    },
    {
     "name": "stderr",
     "output_type": "stream",
     "text": [
      "100%|██████████| 625/625 [00:01<00:00, 456.63it/s]\n",
      " 33%|███▎      | 33/100 [00:44<01:37,  1.45s/it]"
     ]
    },
    {
     "name": "stdout",
     "output_type": "stream",
     "text": [
      "epoch: 32, loss: 1.0470336651496153\n"
     ]
    },
    {
     "name": "stderr",
     "output_type": "stream",
     "text": [
      "100%|██████████| 625/625 [00:01<00:00, 360.43it/s]\n",
      " 34%|███▍      | 34/100 [00:46<01:41,  1.54s/it]"
     ]
    },
    {
     "name": "stdout",
     "output_type": "stream",
     "text": [
      "epoch: 33, loss: 1.0354659417510879\n"
     ]
    },
    {
     "name": "stderr",
     "output_type": "stream",
     "text": [
      "100%|██████████| 625/625 [00:01<00:00, 475.12it/s]\n",
      " 35%|███▌      | 35/100 [00:47<01:35,  1.47s/it]"
     ]
    },
    {
     "name": "stdout",
     "output_type": "stream",
     "text": [
      "epoch: 34, loss: 1.0468489243442827\n"
     ]
    },
    {
     "name": "stderr",
     "output_type": "stream",
     "text": [
      "100%|██████████| 625/625 [00:01<00:00, 465.54it/s]\n",
      " 36%|███▌      | 36/100 [00:49<01:31,  1.44s/it]"
     ]
    },
    {
     "name": "stdout",
     "output_type": "stream",
     "text": [
      "epoch: 35, loss: 1.0437287202399634\n"
     ]
    },
    {
     "name": "stderr",
     "output_type": "stream",
     "text": [
      "100%|██████████| 625/625 [00:01<00:00, 505.04it/s]\n",
      " 37%|███▋      | 37/100 [00:50<01:26,  1.38s/it]"
     ]
    },
    {
     "name": "stdout",
     "output_type": "stream",
     "text": [
      "epoch: 36, loss: 1.0401273749768265\n"
     ]
    },
    {
     "name": "stderr",
     "output_type": "stream",
     "text": [
      "100%|██████████| 625/625 [00:01<00:00, 469.00it/s]\n",
      " 38%|███▊      | 38/100 [00:51<01:24,  1.37s/it]"
     ]
    },
    {
     "name": "stdout",
     "output_type": "stream",
     "text": [
      "epoch: 37, loss: 1.0427041502226633\n"
     ]
    },
    {
     "name": "stderr",
     "output_type": "stream",
     "text": [
      "100%|██████████| 625/625 [00:01<00:00, 506.43it/s]\n",
      " 39%|███▉      | 39/100 [00:52<01:21,  1.33s/it]"
     ]
    },
    {
     "name": "stdout",
     "output_type": "stream",
     "text": [
      "epoch: 38, loss: 1.0367333070708984\n"
     ]
    },
    {
     "name": "stderr",
     "output_type": "stream",
     "text": [
      "100%|██████████| 625/625 [00:01<00:00, 443.47it/s]\n",
      " 40%|████      | 40/100 [00:54<01:21,  1.35s/it]"
     ]
    },
    {
     "name": "stdout",
     "output_type": "stream",
     "text": [
      "epoch: 39, loss: 1.033678519545559\n"
     ]
    },
    {
     "name": "stderr",
     "output_type": "stream",
     "text": [
      "100%|██████████| 625/625 [00:01<00:00, 515.02it/s]\n",
      " 41%|████      | 41/100 [00:55<01:17,  1.31s/it]"
     ]
    },
    {
     "name": "stdout",
     "output_type": "stream",
     "text": [
      "epoch: 40, loss: 1.0377095653372868\n"
     ]
    },
    {
     "name": "stderr",
     "output_type": "stream",
     "text": [
      "100%|██████████| 625/625 [00:01<00:00, 491.91it/s]\n",
      " 42%|████▏     | 42/100 [00:56<01:15,  1.30s/it]"
     ]
    },
    {
     "name": "stdout",
     "output_type": "stream",
     "text": [
      "epoch: 41, loss: 1.0342467256010746\n"
     ]
    },
    {
     "name": "stderr",
     "output_type": "stream",
     "text": [
      "100%|██████████| 625/625 [00:01<00:00, 511.19it/s]\n",
      " 43%|████▎     | 43/100 [00:58<01:12,  1.28s/it]"
     ]
    },
    {
     "name": "stdout",
     "output_type": "stream",
     "text": [
      "epoch: 42, loss: 1.034889449057383\n"
     ]
    },
    {
     "name": "stderr",
     "output_type": "stream",
     "text": [
      "100%|██████████| 625/625 [00:01<00:00, 470.99it/s]\n",
      " 44%|████▍     | 44/100 [00:59<01:12,  1.30s/it]"
     ]
    },
    {
     "name": "stdout",
     "output_type": "stream",
     "text": [
      "epoch: 43, loss: 1.0360050726073067\n"
     ]
    },
    {
     "name": "stderr",
     "output_type": "stream",
     "text": [
      "100%|██████████| 625/625 [00:01<00:00, 490.35it/s]\n",
      " 45%|████▌     | 45/100 [01:00<01:10,  1.29s/it]"
     ]
    },
    {
     "name": "stdout",
     "output_type": "stream",
     "text": [
      "epoch: 44, loss: 1.031769414638908\n"
     ]
    },
    {
     "name": "stderr",
     "output_type": "stream",
     "text": [
      "100%|██████████| 625/625 [00:01<00:00, 537.61it/s]\n",
      " 46%|████▌     | 46/100 [01:01<01:07,  1.25s/it]"
     ]
    },
    {
     "name": "stdout",
     "output_type": "stream",
     "text": [
      "epoch: 45, loss: 1.0287077956290251\n"
     ]
    },
    {
     "name": "stderr",
     "output_type": "stream",
     "text": [
      "100%|██████████| 625/625 [00:01<00:00, 566.51it/s]\n",
      " 47%|████▋     | 47/100 [01:02<01:04,  1.21s/it]"
     ]
    },
    {
     "name": "stdout",
     "output_type": "stream",
     "text": [
      "epoch: 46, loss: 1.0337917995315145\n"
     ]
    },
    {
     "name": "stderr",
     "output_type": "stream",
     "text": [
      "100%|██████████| 625/625 [00:01<00:00, 508.03it/s]\n",
      " 48%|████▊     | 48/100 [01:04<01:03,  1.22s/it]"
     ]
    },
    {
     "name": "stdout",
     "output_type": "stream",
     "text": [
      "epoch: 47, loss: 1.0251733147817774\n"
     ]
    },
    {
     "name": "stderr",
     "output_type": "stream",
     "text": [
      "100%|██████████| 625/625 [00:01<00:00, 418.90it/s]\n",
      " 49%|████▉     | 49/100 [01:05<01:06,  1.30s/it]"
     ]
    },
    {
     "name": "stdout",
     "output_type": "stream",
     "text": [
      "epoch: 48, loss: 1.038237909818136\n"
     ]
    },
    {
     "name": "stderr",
     "output_type": "stream",
     "text": [
      "100%|██████████| 625/625 [00:01<00:00, 352.60it/s]\n",
      " 50%|█████     | 50/100 [01:07<01:12,  1.44s/it]"
     ]
    },
    {
     "name": "stdout",
     "output_type": "stream",
     "text": [
      "epoch: 49, loss: 1.0356039661311458\n"
     ]
    },
    {
     "name": "stderr",
     "output_type": "stream",
     "text": [
      "100%|██████████| 625/625 [00:01<00:00, 411.77it/s]\n",
      " 51%|█████     | 51/100 [01:08<01:11,  1.47s/it]"
     ]
    },
    {
     "name": "stdout",
     "output_type": "stream",
     "text": [
      "epoch: 50, loss: 1.0324871593337697\n"
     ]
    },
    {
     "name": "stderr",
     "output_type": "stream",
     "text": [
      "100%|██████████| 625/625 [00:01<00:00, 448.34it/s]\n",
      " 52%|█████▏    | 52/100 [01:10<01:09,  1.45s/it]"
     ]
    },
    {
     "name": "stdout",
     "output_type": "stream",
     "text": [
      "epoch: 51, loss: 1.0333314103709617\n"
     ]
    },
    {
     "name": "stderr",
     "output_type": "stream",
     "text": [
      "100%|██████████| 625/625 [00:01<00:00, 514.18it/s]\n",
      " 53%|█████▎    | 53/100 [01:11<01:04,  1.38s/it]"
     ]
    },
    {
     "name": "stdout",
     "output_type": "stream",
     "text": [
      "epoch: 52, loss: 1.0269865752273746\n"
     ]
    },
    {
     "name": "stderr",
     "output_type": "stream",
     "text": [
      "100%|██████████| 625/625 [00:01<00:00, 418.07it/s]\n",
      " 54%|█████▍    | 54/100 [01:13<01:05,  1.42s/it]"
     ]
    },
    {
     "name": "stdout",
     "output_type": "stream",
     "text": [
      "epoch: 53, loss: 1.029518525268061\n"
     ]
    },
    {
     "name": "stderr",
     "output_type": "stream",
     "text": [
      "100%|██████████| 625/625 [00:01<00:00, 458.29it/s]\n",
      " 55%|█████▌    | 55/100 [01:14<01:03,  1.40s/it]"
     ]
    },
    {
     "name": "stdout",
     "output_type": "stream",
     "text": [
      "epoch: 54, loss: 1.0332332715919748\n"
     ]
    },
    {
     "name": "stderr",
     "output_type": "stream",
     "text": [
      "100%|██████████| 625/625 [00:01<00:00, 440.21it/s]\n",
      " 56%|█████▌    | 56/100 [01:15<01:01,  1.41s/it]"
     ]
    },
    {
     "name": "stdout",
     "output_type": "stream",
     "text": [
      "epoch: 55, loss: 1.038805152487446\n"
     ]
    },
    {
     "name": "stderr",
     "output_type": "stream",
     "text": [
      "100%|██████████| 625/625 [00:01<00:00, 535.97it/s]\n",
      " 57%|█████▋    | 57/100 [01:17<00:57,  1.34s/it]"
     ]
    },
    {
     "name": "stdout",
     "output_type": "stream",
     "text": [
      "epoch: 56, loss: 1.0300268178772511\n"
     ]
    },
    {
     "name": "stderr",
     "output_type": "stream",
     "text": [
      "100%|██████████| 625/625 [00:01<00:00, 548.02it/s]\n",
      " 58%|█████▊    | 58/100 [01:18<00:53,  1.28s/it]"
     ]
    },
    {
     "name": "stdout",
     "output_type": "stream",
     "text": [
      "epoch: 57, loss: 1.0284253246419923\n"
     ]
    },
    {
     "name": "stderr",
     "output_type": "stream",
     "text": [
      "100%|██████████| 625/625 [00:01<00:00, 553.23it/s]\n",
      " 59%|█████▉    | 59/100 [01:19<00:50,  1.24s/it]"
     ]
    },
    {
     "name": "stdout",
     "output_type": "stream",
     "text": [
      "epoch: 58, loss: 1.0361575810915635\n"
     ]
    },
    {
     "name": "stderr",
     "output_type": "stream",
     "text": [
      "100%|██████████| 625/625 [00:01<00:00, 562.97it/s]\n",
      " 60%|██████    | 60/100 [01:20<00:47,  1.20s/it]"
     ]
    },
    {
     "name": "stdout",
     "output_type": "stream",
     "text": [
      "epoch: 59, loss: 1.0283734198913645\n"
     ]
    },
    {
     "name": "stderr",
     "output_type": "stream",
     "text": [
      "100%|██████████| 625/625 [00:01<00:00, 564.87it/s]\n",
      " 61%|██████    | 61/100 [01:21<00:45,  1.17s/it]"
     ]
    },
    {
     "name": "stdout",
     "output_type": "stream",
     "text": [
      "epoch: 60, loss: 1.0238158684241376\n"
     ]
    },
    {
     "name": "stderr",
     "output_type": "stream",
     "text": [
      "100%|██████████| 625/625 [00:01<00:00, 572.86it/s]\n",
      " 62%|██████▏   | 62/100 [01:22<00:43,  1.15s/it]"
     ]
    },
    {
     "name": "stdout",
     "output_type": "stream",
     "text": [
      "epoch: 61, loss: 1.0354267296725532\n"
     ]
    },
    {
     "name": "stderr",
     "output_type": "stream",
     "text": [
      "100%|██████████| 625/625 [00:01<00:00, 555.27it/s]\n",
      " 63%|██████▎   | 63/100 [01:23<00:42,  1.14s/it]"
     ]
    },
    {
     "name": "stdout",
     "output_type": "stream",
     "text": [
      "epoch: 62, loss: 1.0220408185145156\n"
     ]
    },
    {
     "name": "stderr",
     "output_type": "stream",
     "text": [
      "100%|██████████| 625/625 [00:01<00:00, 561.19it/s]\n",
      " 64%|██████▍   | 64/100 [01:24<00:40,  1.14s/it]"
     ]
    },
    {
     "name": "stdout",
     "output_type": "stream",
     "text": [
      "epoch: 63, loss: 1.0233187396408359\n"
     ]
    },
    {
     "name": "stderr",
     "output_type": "stream",
     "text": [
      "100%|██████████| 625/625 [00:01<00:00, 457.03it/s]\n",
      " 65%|██████▌   | 65/100 [01:26<00:42,  1.21s/it]"
     ]
    },
    {
     "name": "stdout",
     "output_type": "stream",
     "text": [
      "epoch: 64, loss: 1.0280027780768002\n"
     ]
    },
    {
     "name": "stderr",
     "output_type": "stream",
     "text": [
      "100%|██████████| 625/625 [00:01<00:00, 327.28it/s]\n",
      " 66%|██████▌   | 66/100 [01:28<00:48,  1.42s/it]"
     ]
    },
    {
     "name": "stdout",
     "output_type": "stream",
     "text": [
      "epoch: 65, loss: 1.0313066754346027\n"
     ]
    },
    {
     "name": "stderr",
     "output_type": "stream",
     "text": [
      "100%|██████████| 625/625 [00:01<00:00, 463.19it/s]\n",
      " 67%|██████▋   | 67/100 [01:29<00:46,  1.40s/it]"
     ]
    },
    {
     "name": "stdout",
     "output_type": "stream",
     "text": [
      "epoch: 66, loss: 1.0223012111099783\n"
     ]
    },
    {
     "name": "stderr",
     "output_type": "stream",
     "text": [
      "100%|██████████| 625/625 [00:01<00:00, 457.60it/s]\n",
      " 68%|██████▊   | 68/100 [01:30<00:44,  1.39s/it]"
     ]
    },
    {
     "name": "stdout",
     "output_type": "stream",
     "text": [
      "epoch: 67, loss: 1.0267442014207933\n"
     ]
    },
    {
     "name": "stderr",
     "output_type": "stream",
     "text": [
      "100%|██████████| 625/625 [00:01<00:00, 372.13it/s]\n",
      " 69%|██████▉   | 69/100 [01:32<00:45,  1.48s/it]"
     ]
    },
    {
     "name": "stdout",
     "output_type": "stream",
     "text": [
      "epoch: 68, loss: 1.022913372094824\n"
     ]
    },
    {
     "name": "stderr",
     "output_type": "stream",
     "text": [
      "100%|██████████| 625/625 [00:01<00:00, 336.63it/s]\n",
      " 70%|███████   | 70/100 [01:34<00:47,  1.59s/it]"
     ]
    },
    {
     "name": "stdout",
     "output_type": "stream",
     "text": [
      "epoch: 69, loss: 1.0282244678315948\n"
     ]
    },
    {
     "name": "stderr",
     "output_type": "stream",
     "text": [
      "100%|██████████| 625/625 [00:01<00:00, 355.26it/s]\n",
      " 71%|███████   | 71/100 [01:36<00:47,  1.65s/it]"
     ]
    },
    {
     "name": "stdout",
     "output_type": "stream",
     "text": [
      "epoch: 70, loss: 1.031231814546657\n"
     ]
    },
    {
     "name": "stderr",
     "output_type": "stream",
     "text": [
      "100%|██████████| 625/625 [00:02<00:00, 267.01it/s]\n",
      " 72%|███████▏  | 72/100 [01:38<00:51,  1.86s/it]"
     ]
    },
    {
     "name": "stdout",
     "output_type": "stream",
     "text": [
      "epoch: 71, loss: 1.0233772723066945\n"
     ]
    },
    {
     "name": "stderr",
     "output_type": "stream",
     "text": [
      "100%|██████████| 625/625 [00:02<00:00, 298.89it/s]\n",
      " 73%|███████▎  | 73/100 [01:40<00:52,  1.93s/it]"
     ]
    },
    {
     "name": "stdout",
     "output_type": "stream",
     "text": [
      "epoch: 72, loss: 1.0318154918901745\n"
     ]
    },
    {
     "name": "stderr",
     "output_type": "stream",
     "text": [
      "100%|██████████| 625/625 [00:01<00:00, 390.20it/s]\n",
      " 74%|███████▍  | 74/100 [01:42<00:47,  1.83s/it]"
     ]
    },
    {
     "name": "stdout",
     "output_type": "stream",
     "text": [
      "epoch: 73, loss: 1.024025485252193\n"
     ]
    },
    {
     "name": "stderr",
     "output_type": "stream",
     "text": [
      "100%|██████████| 625/625 [00:02<00:00, 235.31it/s]\n",
      " 75%|███████▌  | 75/100 [01:44<00:52,  2.08s/it]"
     ]
    },
    {
     "name": "stdout",
     "output_type": "stream",
     "text": [
      "epoch: 74, loss: 1.023605265085943\n"
     ]
    },
    {
     "name": "stderr",
     "output_type": "stream",
     "text": [
      "100%|██████████| 625/625 [00:01<00:00, 455.28it/s]\n",
      " 76%|███████▌  | 76/100 [01:46<00:44,  1.87s/it]"
     ]
    },
    {
     "name": "stdout",
     "output_type": "stream",
     "text": [
      "epoch: 75, loss: 1.0302247068268404\n"
     ]
    },
    {
     "name": "stderr",
     "output_type": "stream",
     "text": [
      "100%|██████████| 625/625 [00:01<00:00, 504.63it/s]\n",
      " 77%|███████▋  | 77/100 [01:47<00:38,  1.68s/it]"
     ]
    },
    {
     "name": "stdout",
     "output_type": "stream",
     "text": [
      "epoch: 76, loss: 1.0230553622586724\n"
     ]
    },
    {
     "name": "stderr",
     "output_type": "stream",
     "text": [
      "100%|██████████| 625/625 [00:01<00:00, 381.75it/s]\n",
      " 78%|███████▊  | 78/100 [01:49<00:36,  1.67s/it]"
     ]
    },
    {
     "name": "stdout",
     "output_type": "stream",
     "text": [
      "epoch: 77, loss: 1.0236876141378835\n"
     ]
    },
    {
     "name": "stderr",
     "output_type": "stream",
     "text": [
      "100%|██████████| 625/625 [00:02<00:00, 208.73it/s]\n",
      " 79%|███████▉  | 79/100 [01:52<00:43,  2.07s/it]"
     ]
    },
    {
     "name": "stdout",
     "output_type": "stream",
     "text": [
      "epoch: 78, loss: 1.0239348199485747\n"
     ]
    },
    {
     "name": "stderr",
     "output_type": "stream",
     "text": [
      "100%|██████████| 625/625 [00:01<00:00, 369.11it/s]\n",
      " 80%|████████  | 80/100 [01:53<00:39,  1.96s/it]"
     ]
    },
    {
     "name": "stdout",
     "output_type": "stream",
     "text": [
      "epoch: 79, loss: 1.0186189068462232\n"
     ]
    },
    {
     "name": "stderr",
     "output_type": "stream",
     "text": [
      "100%|██████████| 625/625 [00:01<00:00, 451.02it/s]\n",
      " 81%|████████  | 81/100 [01:55<00:33,  1.79s/it]"
     ]
    },
    {
     "name": "stdout",
     "output_type": "stream",
     "text": [
      "epoch: 80, loss: 1.019107678773564\n"
     ]
    },
    {
     "name": "stderr",
     "output_type": "stream",
     "text": [
      "100%|██████████| 625/625 [00:01<00:00, 471.98it/s]\n",
      " 82%|████████▏ | 82/100 [01:56<00:29,  1.65s/it]"
     ]
    },
    {
     "name": "stdout",
     "output_type": "stream",
     "text": [
      "epoch: 81, loss: 1.0233254351710472\n"
     ]
    },
    {
     "name": "stderr",
     "output_type": "stream",
     "text": [
      "100%|██████████| 625/625 [00:01<00:00, 452.17it/s]\n",
      " 83%|████████▎ | 83/100 [01:57<00:26,  1.57s/it]"
     ]
    },
    {
     "name": "stdout",
     "output_type": "stream",
     "text": [
      "epoch: 82, loss: 1.0208258476321257\n"
     ]
    },
    {
     "name": "stderr",
     "output_type": "stream",
     "text": [
      "100%|██████████| 625/625 [00:01<00:00, 456.48it/s]\n",
      " 84%|████████▍ | 84/100 [01:59<00:24,  1.51s/it]"
     ]
    },
    {
     "name": "stdout",
     "output_type": "stream",
     "text": [
      "epoch: 83, loss: 1.0184014406868482\n"
     ]
    },
    {
     "name": "stderr",
     "output_type": "stream",
     "text": [
      "100%|██████████| 625/625 [00:01<00:00, 467.72it/s]\n",
      " 85%|████████▌ | 85/100 [02:00<00:21,  1.46s/it]"
     ]
    },
    {
     "name": "stdout",
     "output_type": "stream",
     "text": [
      "epoch: 84, loss: 1.0183118837086618\n"
     ]
    },
    {
     "name": "stderr",
     "output_type": "stream",
     "text": [
      "100%|██████████| 625/625 [00:01<00:00, 509.56it/s]\n",
      " 86%|████████▌ | 86/100 [02:01<00:19,  1.39s/it]"
     ]
    },
    {
     "name": "stdout",
     "output_type": "stream",
     "text": [
      "epoch: 85, loss: 1.0208860509832292\n"
     ]
    },
    {
     "name": "stderr",
     "output_type": "stream",
     "text": [
      "100%|██████████| 625/625 [00:01<00:00, 500.13it/s]\n",
      " 87%|████████▋ | 87/100 [02:03<00:17,  1.35s/it]"
     ]
    },
    {
     "name": "stdout",
     "output_type": "stream",
     "text": [
      "epoch: 86, loss: 1.0165956580208102\n"
     ]
    },
    {
     "name": "stderr",
     "output_type": "stream",
     "text": [
      "100%|██████████| 625/625 [00:01<00:00, 507.61it/s]\n",
      " 88%|████████▊ | 88/100 [02:04<00:15,  1.32s/it]"
     ]
    },
    {
     "name": "stdout",
     "output_type": "stream",
     "text": [
      "epoch: 87, loss: 1.016848592163778\n"
     ]
    },
    {
     "name": "stderr",
     "output_type": "stream",
     "text": [
      "100%|██████████| 625/625 [00:01<00:00, 406.13it/s]\n",
      " 89%|████████▉ | 89/100 [02:05<00:15,  1.38s/it]"
     ]
    },
    {
     "name": "stdout",
     "output_type": "stream",
     "text": [
      "epoch: 88, loss: 1.0168527857223828\n"
     ]
    },
    {
     "name": "stderr",
     "output_type": "stream",
     "text": [
      "100%|██████████| 625/625 [00:01<00:00, 369.03it/s]\n",
      " 90%|█████████ | 90/100 [02:07<00:14,  1.48s/it]"
     ]
    },
    {
     "name": "stdout",
     "output_type": "stream",
     "text": [
      "epoch: 89, loss: 1.0253825976741298\n"
     ]
    },
    {
     "name": "stderr",
     "output_type": "stream",
     "text": [
      "100%|██████████| 625/625 [00:01<00:00, 479.79it/s]\n",
      " 91%|█████████ | 91/100 [02:08<00:12,  1.43s/it]"
     ]
    },
    {
     "name": "stdout",
     "output_type": "stream",
     "text": [
      "epoch: 90, loss: 1.0176842513824849\n"
     ]
    },
    {
     "name": "stderr",
     "output_type": "stream",
     "text": [
      "100%|██████████| 625/625 [00:01<00:00, 456.95it/s]\n",
      " 92%|█████████▏| 92/100 [02:10<00:11,  1.41s/it]"
     ]
    },
    {
     "name": "stdout",
     "output_type": "stream",
     "text": [
      "epoch: 91, loss: 1.0187362819081158\n"
     ]
    },
    {
     "name": "stderr",
     "output_type": "stream",
     "text": [
      "100%|██████████| 625/625 [00:01<00:00, 474.30it/s]\n",
      " 93%|█████████▎| 93/100 [02:11<00:09,  1.38s/it]"
     ]
    },
    {
     "name": "stdout",
     "output_type": "stream",
     "text": [
      "epoch: 92, loss: 1.0140362561456437\n"
     ]
    },
    {
     "name": "stderr",
     "output_type": "stream",
     "text": [
      "100%|██████████| 625/625 [00:01<00:00, 517.04it/s]\n",
      " 94%|█████████▍| 94/100 [02:12<00:07,  1.33s/it]"
     ]
    },
    {
     "name": "stdout",
     "output_type": "stream",
     "text": [
      "epoch: 93, loss: 1.0182801164756143\n"
     ]
    },
    {
     "name": "stderr",
     "output_type": "stream",
     "text": [
      "100%|██████████| 625/625 [00:01<00:00, 505.72it/s]\n",
      " 95%|█████████▌| 95/100 [02:14<00:06,  1.31s/it]"
     ]
    },
    {
     "name": "stdout",
     "output_type": "stream",
     "text": [
      "epoch: 94, loss: 1.018093456669101\n"
     ]
    },
    {
     "name": "stderr",
     "output_type": "stream",
     "text": [
      "100%|██████████| 625/625 [00:01<00:00, 433.41it/s]\n",
      " 96%|█████████▌| 96/100 [02:15<00:05,  1.35s/it]"
     ]
    },
    {
     "name": "stdout",
     "output_type": "stream",
     "text": [
      "epoch: 95, loss: 1.0129650218169997\n"
     ]
    },
    {
     "name": "stderr",
     "output_type": "stream",
     "text": [
      "100%|██████████| 625/625 [00:01<00:00, 410.43it/s]\n",
      " 97%|█████████▋| 97/100 [02:17<00:04,  1.40s/it]"
     ]
    },
    {
     "name": "stdout",
     "output_type": "stream",
     "text": [
      "epoch: 96, loss: 1.0173531059616847\n"
     ]
    },
    {
     "name": "stderr",
     "output_type": "stream",
     "text": [
      "100%|██████████| 625/625 [00:01<00:00, 509.08it/s]\n",
      " 98%|█████████▊| 98/100 [02:18<00:02,  1.35s/it]"
     ]
    },
    {
     "name": "stdout",
     "output_type": "stream",
     "text": [
      "epoch: 97, loss: 1.0184648855946217\n"
     ]
    },
    {
     "name": "stderr",
     "output_type": "stream",
     "text": [
      "100%|██████████| 625/625 [00:01<00:00, 477.00it/s]\n",
      " 99%|█████████▉| 99/100 [02:19<00:01,  1.34s/it]"
     ]
    },
    {
     "name": "stdout",
     "output_type": "stream",
     "text": [
      "epoch: 98, loss: 1.0122107574352264\n"
     ]
    },
    {
     "name": "stderr",
     "output_type": "stream",
     "text": [
      "100%|██████████| 625/625 [00:01<00:00, 488.28it/s]\n",
      "100%|██████████| 100/100 [02:20<00:00,  1.41s/it]\n"
     ]
    },
    {
     "name": "stdout",
     "output_type": "stream",
     "text": [
      "epoch: 99, loss: 1.0120816785661306\n"
     ]
    },
    {
     "data": {
      "image/png": "[encoded data removed]",
      "text/plain": [
       "<Figure size 640x480 with 1 Axes>"
      ]
     },
     "metadata": {},
     "output_type": "display_data"
    }
   ],
   "source": [
    "def train(model, \n",
    "          train_loader,\n",
    "          num_iters, \n",
    "          optimizer,\n",
    "          criterion, \n",
    "          learning_rate,\n",
    "          device=\"cuda\"):\n",
    "    model.to(device)\n",
    "    optimizer = optimizer(model.parameters(), lr=learning_rate)\n",
    "    \n",
    "    all_epoch_loss = []\n",
    "\n",
    "    for epoch in trange(num_iters):\n",
    "        epoch_loss = 0.\n",
    "        for i, (data_tuple) in enumerate(tqdm(train_loader)):\n",
    "            measures = data_tuple[0]\n",
    "            target_thresholds = data_tuple[1]\n",
    "            prediction_thresholds = model(measures)\n",
    "\n",
    "            loss = criterion(prediction_thresholds, target_thresholds)\n",
    "\n",
    "            epoch_loss += loss.item()\n",
    "\n",
    "            optimizer.zero_grad()\n",
    "            loss.backward()\n",
    "            optimizer.step()\n",
    "        epoch_loss /= len(train_loader)\n",
    "        all_epoch_loss.append(epoch_loss)\n",
    "\n",
    "        print(f\"epoch: {epoch}, loss: {epoch_loss}\")\n",
    "\n",
    "    return all_epoch_loss\n",
    "\n",
    "criterion = nn.MSELoss()\n",
    "\n",
    "all_epoch_loss = train(\n",
    "    model=discount_model,\n",
    "    train_loader=train_loader,\n",
    "    num_iters=100,\n",
    "    optimizer=torch.optim.Adam,\n",
    "    criterion=criterion,\n",
    "    learning_rate=5e-5,\n",
    "    device=\"cuda\" if torch.cuda.is_available() else \"cpu\"\n",
    ")\n",
    "\n",
    "plt.plot(np.arange(100), all_epoch_loss)\n",
    "plt.show()"
   ]
  },
  {
   "cell_type": "markdown",
   "metadata": {},
   "source": [
    "Evaluate the model performance on original threshold archive."
   ]
  },
  {
   "cell_type": "code",
   "execution_count": 92,
   "metadata": {},
   "outputs": [
    {
     "name": "stdout",
     "output_type": "stream",
     "text": [
      "[92.57969772196775, 93.42046865950498, 90.2237322806343, 92.29718768377892, 92.71295058584457, 93.9122510820887, 91.5470483226715, 94.1385686684559, 93.09247498827263, 93.60325245272901, 90.87194018692412, 90.9995022345424, 91.55755490260718, 92.5032672294727, 93.05291564199736, 93.5648338790505, 93.43416376695822, 94.03598587275404, 91.10058821860835, 94.51409004395774]\n"
     ]
    },
    {
     "name": "stdout",
     "output_type": "stream",
     "text": [
      "[tensor([64.3825], dtype=torch.float64, grad_fn=<AddBackward0>), tensor([64.2644], dtype=torch.float64, grad_fn=<AddBackward0>), tensor([63.9391], dtype=torch.float64, grad_fn=<AddBackward0>), tensor([64.0125], dtype=torch.float64, grad_fn=<AddBackward0>), tensor([64.5771], dtype=torch.float64, grad_fn=<AddBackward0>), tensor([64.9373], dtype=torch.float64, grad_fn=<AddBackward0>), tensor([65.1188], dtype=torch.float64, grad_fn=<AddBackward0>), tensor([64.8029], dtype=torch.float64, grad_fn=<AddBackward0>), tensor([64.3054], dtype=torch.float64, grad_fn=<AddBackward0>), tensor([63.8743], dtype=torch.float64, grad_fn=<AddBackward0>), tensor([63.7511], dtype=torch.float64, grad_fn=<AddBackward0>), tensor([63.7529], dtype=torch.float64, grad_fn=<AddBackward0>), tensor([63.9405], dtype=torch.float64, grad_fn=<AddBackward0>), tensor([64.3735], dtype=torch.float64, grad_fn=<AddBackward0>), tensor([64.4917], dtype=torch.float64, grad_fn=<AddBackward0>), tensor([64.7191], dtype=torch.float64, grad_fn=<AddBackward0>), tensor([64.8455], dtype=torch.float64, grad_fn=<AddBackward0>), tensor([64.9038], dtype=torch.float64, grad_fn=<AddBackward0>), tensor([65.2052], dtype=torch.float64, grad_fn=<AddBackward0>), tensor([64.6017], dtype=torch.float64, grad_fn=<AddBackward0>)]\n",
      "tensor([16.2441], dtype=torch.float64, grad_fn=<DivBackward0>)\n"
     ]
    }
   ],
   "source": [
    "def evaluate_model(model,\n",
    "                   archive, \n",
    "                   y_mean, \n",
    "                   y_std):\n",
    "    model.eval()\n",
    "\n",
    "    # 1. grab all filled measures from archive\n",
    "    all_measures = []\n",
    "    all_true_thresholds = []\n",
    "    for elite in archive:\n",
    "        all_measures.append(elite[\"measures\"])\n",
    "        all_true_thresholds.append(elite[\"threshold\"])\n",
    "\n",
    "    print(all_true_thresholds[53:73])\n",
    "    \n",
    "    # 2. predict new thresholds using discount model\n",
    "    all_pred_thresholds = []\n",
    "    for measure in all_measures:\n",
    "        normalized_pred_threshold = model(torch.tensor(measure, dtype=torch.float64))\n",
    "        unnormalized_pred_threshold = normalized_pred_threshold * y_std + y_mean\n",
    "        all_pred_thresholds.append(unnormalized_pred_threshold)\n",
    "    \n",
    "    print(all_pred_thresholds[53:73])\n",
    "\n",
    "    # 3. calculate mean error\n",
    "    mean_error = 0.0\n",
    "    assert len(all_true_thresholds) == len(all_pred_thresholds)\n",
    "    for i in range(len(all_true_thresholds)):\n",
    "        mean_error += (all_true_thresholds[i] - all_pred_thresholds[i])\n",
    "    return mean_error/len(all_true_thresholds)\n",
    "\n",
    "mean_error = evaluate_model(model=discount_model,\n",
    "                            archive=archive,\n",
    "                            y_mean=y_mean,\n",
    "                            y_std=y_std)\n",
    "\n",
    "print(mean_error)"
   ]
  }
 ],
 "metadata": {
  "kernelspec": {
   "display_name": "archive-models",
   "language": "python",
   "name": "python3"
  },
  "language_info": {
   "codemirror_mode": {
    "name": "ipython",
    "version": 3
   },
   "file_extension": ".py",
   "mimetype": "text/x-python",
   "name": "python",
   "nbconvert_exporter": "python",
   "pygments_lexer": "ipython3",
   "version": "3.10.14"
  }
 },
 "nbformat": 4,
 "nbformat_minor": 2
}
